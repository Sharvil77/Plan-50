{
 "cells": [
  {
   "cell_type": "code",
   "execution_count": 1,
   "metadata": {},
   "outputs": [],
   "source": [
    "import pandas as pd"
   ]
  },
  {
   "cell_type": "code",
   "execution_count": 2,
   "metadata": {},
   "outputs": [],
   "source": [
    "from nltk.tokenize import word_tokenize"
   ]
  },
  {
   "cell_type": "code",
   "execution_count": 3,
   "metadata": {},
   "outputs": [],
   "source": [
    "import spacy"
   ]
  },
  {
   "cell_type": "code",
   "execution_count": 4,
   "metadata": {},
   "outputs": [],
   "source": [
    "nlp = spacy.load('en_core_web_sm')\n",
    "stopwords = nlp.Defaults.stop_words"
   ]
  },
  {
   "cell_type": "code",
   "execution_count": 5,
   "metadata": {},
   "outputs": [],
   "source": [
    "data_j=pd.read_json('D:\\\\Internships\\\\Heuro\\\\final.json',lines=True,orient='records')"
   ]
  },
  {
   "cell_type": "code",
   "execution_count": 6,
   "metadata": {},
   "outputs": [
    {
     "data": {
      "text/html": [
       "<div>\n",
       "<style scoped>\n",
       "    .dataframe tbody tr th:only-of-type {\n",
       "        vertical-align: middle;\n",
       "    }\n",
       "\n",
       "    .dataframe tbody tr th {\n",
       "        vertical-align: top;\n",
       "    }\n",
       "\n",
       "    .dataframe thead th {\n",
       "        text-align: right;\n",
       "    }\n",
       "</style>\n",
       "<table border=\"1\" class=\"dataframe\">\n",
       "  <thead>\n",
       "    <tr style=\"text-align: right;\">\n",
       "      <th></th>\n",
       "      <th>document</th>\n",
       "      <th>annotation</th>\n",
       "    </tr>\n",
       "  </thead>\n",
       "  <tbody>\n",
       "    <tr>\n",
       "      <th>0</th>\n",
       "      <td>The house plan has two bedrooms, two washrooms...</td>\n",
       "      <td>[{'start': 19, 'end': 22, 'label': 'QUANT', 't...</td>\n",
       "    </tr>\n",
       "    <tr>\n",
       "      <th>1</th>\n",
       "      <td>House has one washroom, one livingroom, one st...</td>\n",
       "      <td>[{'start': 10, 'end': 13, 'label': 'QUANT', 't...</td>\n",
       "    </tr>\n",
       "    <tr>\n",
       "      <th>2</th>\n",
       "      <td>House has three bedrooms, one washroom, one ba...</td>\n",
       "      <td>[{'start': 10, 'end': 15, 'label': 'QUANT', 't...</td>\n",
       "    </tr>\n",
       "    <tr>\n",
       "      <th>3</th>\n",
       "      <td>Building layout contains two bedrooms, one was...</td>\n",
       "      <td>[{'start': 25, 'end': 28, 'label': 'QUANT', 't...</td>\n",
       "    </tr>\n",
       "    <tr>\n",
       "      <th>4</th>\n",
       "      <td>Building layout contains three bedrooms, two w...</td>\n",
       "      <td>[{'start': 25, 'end': 30, 'label': 'QUANT', 't...</td>\n",
       "    </tr>\n",
       "  </tbody>\n",
       "</table>\n",
       "</div>"
      ],
      "text/plain": [
       "                                            document  \\\n",
       "0  The house plan has two bedrooms, two washrooms...   \n",
       "1  House has one washroom, one livingroom, one st...   \n",
       "2  House has three bedrooms, one washroom, one ba...   \n",
       "3  Building layout contains two bedrooms, one was...   \n",
       "4  Building layout contains three bedrooms, two w...   \n",
       "\n",
       "                                          annotation  \n",
       "0  [{'start': 19, 'end': 22, 'label': 'QUANT', 't...  \n",
       "1  [{'start': 10, 'end': 13, 'label': 'QUANT', 't...  \n",
       "2  [{'start': 10, 'end': 15, 'label': 'QUANT', 't...  \n",
       "3  [{'start': 25, 'end': 28, 'label': 'QUANT', 't...  \n",
       "4  [{'start': 25, 'end': 30, 'label': 'QUANT', 't...  "
      ]
     },
     "execution_count": 6,
     "metadata": {},
     "output_type": "execute_result"
    }
   ],
   "source": [
    "data_j.head()"
   ]
  },
  {
   "cell_type": "code",
   "execution_count": 7,
   "metadata": {},
   "outputs": [
    {
     "data": {
      "text/plain": [
       "(50, 2)"
      ]
     },
     "execution_count": 7,
     "metadata": {},
     "output_type": "execute_result"
    }
   ],
   "source": [
    "data_j.shape"
   ]
  },
  {
   "cell_type": "code",
   "execution_count": 8,
   "metadata": {},
   "outputs": [],
   "source": [
    "data=pd.read_csv('D:\\\\Internships\\\\Heuro\\\\final.csv')"
   ]
  },
  {
   "cell_type": "code",
   "execution_count": 9,
   "metadata": {},
   "outputs": [
    {
     "data": {
      "text/html": [
       "<div>\n",
       "<style scoped>\n",
       "    .dataframe tbody tr th:only-of-type {\n",
       "        vertical-align: middle;\n",
       "    }\n",
       "\n",
       "    .dataframe tbody tr th {\n",
       "        vertical-align: top;\n",
       "    }\n",
       "\n",
       "    .dataframe thead th {\n",
       "        text-align: right;\n",
       "    }\n",
       "</style>\n",
       "<table border=\"1\" class=\"dataframe\">\n",
       "  <thead>\n",
       "    <tr style=\"text-align: right;\">\n",
       "      <th></th>\n",
       "      <th>document</th>\n",
       "      <th>annotation__start</th>\n",
       "      <th>annotation__end</th>\n",
       "      <th>annotation__label</th>\n",
       "      <th>annotation__text</th>\n",
       "    </tr>\n",
       "  </thead>\n",
       "  <tbody>\n",
       "    <tr>\n",
       "      <th>0</th>\n",
       "      <td>The house plan has two bedrooms, two washrooms...</td>\n",
       "      <td>19</td>\n",
       "      <td>22</td>\n",
       "      <td>QUANT</td>\n",
       "      <td>two</td>\n",
       "    </tr>\n",
       "    <tr>\n",
       "      <th>1</th>\n",
       "      <td>NaN</td>\n",
       "      <td>23</td>\n",
       "      <td>31</td>\n",
       "      <td>ROOM</td>\n",
       "      <td>bedrooms</td>\n",
       "    </tr>\n",
       "    <tr>\n",
       "      <th>2</th>\n",
       "      <td>NaN</td>\n",
       "      <td>33</td>\n",
       "      <td>36</td>\n",
       "      <td>QUANT</td>\n",
       "      <td>two</td>\n",
       "    </tr>\n",
       "    <tr>\n",
       "      <th>3</th>\n",
       "      <td>NaN</td>\n",
       "      <td>37</td>\n",
       "      <td>46</td>\n",
       "      <td>ROOM</td>\n",
       "      <td>washrooms</td>\n",
       "    </tr>\n",
       "    <tr>\n",
       "      <th>4</th>\n",
       "      <td>NaN</td>\n",
       "      <td>48</td>\n",
       "      <td>51</td>\n",
       "      <td>QUANT</td>\n",
       "      <td>two</td>\n",
       "    </tr>\n",
       "  </tbody>\n",
       "</table>\n",
       "</div>"
      ],
      "text/plain": [
       "                                            document  annotation__start  \\\n",
       "0  The house plan has two bedrooms, two washrooms...                 19   \n",
       "1                                                NaN                 23   \n",
       "2                                                NaN                 33   \n",
       "3                                                NaN                 37   \n",
       "4                                                NaN                 48   \n",
       "\n",
       "   annotation__end annotation__label annotation__text  \n",
       "0               22             QUANT              two  \n",
       "1               31              ROOM         bedrooms  \n",
       "2               36             QUANT              two  \n",
       "3               46              ROOM        washrooms  \n",
       "4               51             QUANT              two  "
      ]
     },
     "execution_count": 9,
     "metadata": {},
     "output_type": "execute_result"
    }
   ],
   "source": [
    "data.head()"
   ]
  },
  {
   "cell_type": "code",
   "execution_count": 10,
   "metadata": {},
   "outputs": [],
   "source": [
    "data_new=data[data['annotation__label']=='CONNECTION']['annotation__text']"
   ]
  },
  {
   "cell_type": "code",
   "execution_count": 11,
   "metadata": {},
   "outputs": [],
   "source": [
    "data_new=data_new.reset_index()"
   ]
  },
  {
   "cell_type": "code",
   "execution_count": 12,
   "metadata": {},
   "outputs": [],
   "source": [
    "data_new=data_new.drop([106, 146, 142, 183])"
   ]
  },
  {
   "cell_type": "code",
   "execution_count": 13,
   "metadata": {},
   "outputs": [],
   "source": [
    "data_new=data_new.reset_index()"
   ]
  },
  {
   "cell_type": "code",
   "execution_count": 14,
   "metadata": {},
   "outputs": [
    {
     "data": {
      "text/html": [
       "<div>\n",
       "<style scoped>\n",
       "    .dataframe tbody tr th:only-of-type {\n",
       "        vertical-align: middle;\n",
       "    }\n",
       "\n",
       "    .dataframe tbody tr th {\n",
       "        vertical-align: top;\n",
       "    }\n",
       "\n",
       "    .dataframe thead th {\n",
       "        text-align: right;\n",
       "    }\n",
       "</style>\n",
       "<table border=\"1\" class=\"dataframe\">\n",
       "  <thead>\n",
       "    <tr style=\"text-align: right;\">\n",
       "      <th></th>\n",
       "      <th>level_0</th>\n",
       "      <th>index</th>\n",
       "      <th>annotation__text</th>\n",
       "    </tr>\n",
       "  </thead>\n",
       "  <tbody>\n",
       "    <tr>\n",
       "      <th>0</th>\n",
       "      <td>0</td>\n",
       "      <td>33</td>\n",
       "      <td>bedroom1, bedroom2, kitchen1, balcony1, washro...</td>\n",
       "    </tr>\n",
       "    <tr>\n",
       "      <th>1</th>\n",
       "      <td>1</td>\n",
       "      <td>34</td>\n",
       "      <td>bedroom1 is adjacent to balcony1, washroom1</td>\n",
       "    </tr>\n",
       "    <tr>\n",
       "      <th>2</th>\n",
       "      <td>2</td>\n",
       "      <td>35</td>\n",
       "      <td>bedroom2 is next to washroom2, balcony2</td>\n",
       "    </tr>\n",
       "    <tr>\n",
       "      <th>3</th>\n",
       "      <td>3</td>\n",
       "      <td>36</td>\n",
       "      <td>kitchen1 is adjacent to balcony2</td>\n",
       "    </tr>\n",
       "    <tr>\n",
       "      <th>4</th>\n",
       "      <td>4</td>\n",
       "      <td>37</td>\n",
       "      <td>washroom2 and washroom1 are connected</td>\n",
       "    </tr>\n",
       "  </tbody>\n",
       "</table>\n",
       "</div>"
      ],
      "text/plain": [
       "   level_0  index                                   annotation__text\n",
       "0        0     33  bedroom1, bedroom2, kitchen1, balcony1, washro...\n",
       "1        1     34        bedroom1 is adjacent to balcony1, washroom1\n",
       "2        2     35            bedroom2 is next to washroom2, balcony2\n",
       "3        3     36                   kitchen1 is adjacent to balcony2\n",
       "4        4     37              washroom2 and washroom1 are connected"
      ]
     },
     "execution_count": 14,
     "metadata": {},
     "output_type": "execute_result"
    }
   ],
   "source": [
    "data_new.head()"
   ]
  },
  {
   "cell_type": "code",
   "execution_count": 15,
   "metadata": {},
   "outputs": [
    {
     "data": {
      "text/plain": [
       "(185, 3)"
      ]
     },
     "execution_count": 15,
     "metadata": {},
     "output_type": "execute_result"
    }
   ],
   "source": [
    "data_new.shape"
   ]
  },
  {
   "cell_type": "code",
   "execution_count": 16,
   "metadata": {},
   "outputs": [
    {
     "data": {
      "text/plain": [
       "'bedroom1, bedroom2, kitchen1, balcony1, washroom1, washroom2, balcony2 and livingroom1 are connected'"
      ]
     },
     "execution_count": 16,
     "metadata": {},
     "output_type": "execute_result"
    }
   ],
   "source": [
    "data_new['annotation__text'][0]"
   ]
  },
  {
   "cell_type": "code",
   "execution_count": 17,
   "metadata": {},
   "outputs": [],
   "source": [
    "from spacy.matcher import Matcher\n",
    "def pattern(text):\n",
    "    text_tokens = nlp(text)\n",
    "    tokens_without_sw= [word for word in text_tokens if not word.is_stop or word.text=='next']\n",
    "    tokens_without_sw=[token for token in tokens_without_sw if not token.is_punct | token.is_space]\n",
    "    tokns_without_sw = ' '.join(map(str, tokens_without_sw))\n",
    "    tokns_without_sw = nlp(tokns_without_sw)\n",
    "    \n",
    "    pattern1 = [{'ORTH': 'connected'}]\n",
    "    pattern2 = [{'ORTH': 'adjacent'}]\n",
    "    pattern3 = [{'ORTH': 'next'}]\n",
    "    \n",
    "    matcher1 = Matcher(nlp.vocab)\n",
    "    matcher2 = Matcher(nlp.vocab)\n",
    "    matcher3 = Matcher(nlp.vocab)\n",
    "    matcher1.add(\"connected\",None, pattern1)\n",
    "    matcher2.add(\"adjacent\",None, pattern2)\n",
    "    matcher3.add(\"next\",None, pattern3)\n",
    "    \n",
    "    matches1 = matcher1(tokns_without_sw)\n",
    "    matches2 = matcher2(tokns_without_sw)\n",
    "    matches3 = matcher3(tokns_without_sw)\n",
    "    if len(matches1)>=1:\n",
    "        l=matches1[0][1]\n",
    "        tabl_arr=[]\n",
    "        for i in range(l-1):\n",
    "            for j in range(i+1,l):\n",
    "                tabl_arr.append({'Room type':tokns_without_sw[i], 'Link': tokns_without_sw[j]})\n",
    "    \n",
    "    elif len(matches2)>=1 or len(matches3)>=1:\n",
    "        \n",
    "        tabl_arr=[]\n",
    "        j=0\n",
    "        tok=word_tokenize(tokns_without_sw.text)\n",
    "        if 'adjacent' in tok:\n",
    "            tok.remove('adjacent')\n",
    "            s=matches2[0][1]\n",
    "            e=matches2[0][2]\n",
    "        elif 'next' in tok:\n",
    "            tok.remove('next')\n",
    "            s=matches3[0][1]\n",
    "            e=matches3[0][2]\n",
    "        tokns_without_sw=nlp(' '.join(map(str, tok)))\n",
    "        for i in range(1,len(tokns_without_sw)):\n",
    "            tabl_arr.append({'Room type':tokns_without_sw[0], 'Link': tokns_without_sw[i]})\n",
    "        \n",
    "    tabl=pd.DataFrame(tabl_arr)\n",
    "    return tabl"
   ]
  },
  {
   "cell_type": "code",
   "execution_count": 18,
   "metadata": {},
   "outputs": [],
   "source": [
    "def concat(pat,patt):\n",
    "    ta=pd.concat([pat,patt],ignore_index=True)\n",
    "    t=ta.drop_duplicates(subset=['Room type'] and ['Link'],keep=False)\n",
    "    for i in t.index:\n",
    "        if i==0:\n",
    "            continue\n",
    "        ta=ta.drop(index=[i])\n",
    "    return ta"
   ]
  },
  {
   "cell_type": "code",
   "execution_count": 19,
   "metadata": {},
   "outputs": [],
   "source": [
    "k=[]\n",
    "table=pattern(data_new['annotation__text'][0])\n",
    "for i in range(len(data_new['index'])-1):\n",
    "    if data_new['index'][i+1] == data_new['index'][i]+1:\n",
    "        if i+1 < len(data_new['index']):\n",
    "            table=concat(table,pattern(data_new['annotation__text'][i+1]))\n",
    "    else:\n",
    "        k.append(table)\n",
    "        table=pattern(data_new['annotation__text'][i+1])"
   ]
  },
  {
   "cell_type": "code",
   "execution_count": 20,
   "metadata": {},
   "outputs": [
    {
     "data": {
      "text/html": [
       "<div>\n",
       "<style scoped>\n",
       "    .dataframe tbody tr th:only-of-type {\n",
       "        vertical-align: middle;\n",
       "    }\n",
       "\n",
       "    .dataframe tbody tr th {\n",
       "        vertical-align: top;\n",
       "    }\n",
       "\n",
       "    .dataframe thead th {\n",
       "        text-align: right;\n",
       "    }\n",
       "</style>\n",
       "<table border=\"1\" class=\"dataframe\">\n",
       "  <thead>\n",
       "    <tr style=\"text-align: right;\">\n",
       "      <th></th>\n",
       "      <th>Room type</th>\n",
       "      <th>Link</th>\n",
       "    </tr>\n",
       "  </thead>\n",
       "  <tbody>\n",
       "    <tr>\n",
       "      <th>0</th>\n",
       "      <td>bedroom1</td>\n",
       "      <td>bedroom2</td>\n",
       "    </tr>\n",
       "    <tr>\n",
       "      <th>1</th>\n",
       "      <td>bedroom1</td>\n",
       "      <td>study1</td>\n",
       "    </tr>\n",
       "    <tr>\n",
       "      <th>2</th>\n",
       "      <td>bedroom1</td>\n",
       "      <td>kitchen1</td>\n",
       "    </tr>\n",
       "    <tr>\n",
       "      <th>3</th>\n",
       "      <td>bedroom1</td>\n",
       "      <td>balcony1</td>\n",
       "    </tr>\n",
       "    <tr>\n",
       "      <th>4</th>\n",
       "      <td>bedroom1</td>\n",
       "      <td>washroom1</td>\n",
       "    </tr>\n",
       "    <tr>\n",
       "      <th>5</th>\n",
       "      <td>bedroom1</td>\n",
       "      <td>livingroom1</td>\n",
       "    </tr>\n",
       "    <tr>\n",
       "      <th>6</th>\n",
       "      <td>bedroom2</td>\n",
       "      <td>study1</td>\n",
       "    </tr>\n",
       "    <tr>\n",
       "      <th>7</th>\n",
       "      <td>bedroom2</td>\n",
       "      <td>kitchen1</td>\n",
       "    </tr>\n",
       "    <tr>\n",
       "      <th>8</th>\n",
       "      <td>bedroom2</td>\n",
       "      <td>balcony1</td>\n",
       "    </tr>\n",
       "    <tr>\n",
       "      <th>9</th>\n",
       "      <td>bedroom2</td>\n",
       "      <td>washroom1</td>\n",
       "    </tr>\n",
       "    <tr>\n",
       "      <th>10</th>\n",
       "      <td>bedroom2</td>\n",
       "      <td>livingroom1</td>\n",
       "    </tr>\n",
       "    <tr>\n",
       "      <th>11</th>\n",
       "      <td>study1</td>\n",
       "      <td>kitchen1</td>\n",
       "    </tr>\n",
       "    <tr>\n",
       "      <th>12</th>\n",
       "      <td>study1</td>\n",
       "      <td>balcony1</td>\n",
       "    </tr>\n",
       "    <tr>\n",
       "      <th>13</th>\n",
       "      <td>study1</td>\n",
       "      <td>washroom1</td>\n",
       "    </tr>\n",
       "    <tr>\n",
       "      <th>14</th>\n",
       "      <td>study1</td>\n",
       "      <td>livingroom1</td>\n",
       "    </tr>\n",
       "    <tr>\n",
       "      <th>15</th>\n",
       "      <td>kitchen1</td>\n",
       "      <td>balcony1</td>\n",
       "    </tr>\n",
       "    <tr>\n",
       "      <th>16</th>\n",
       "      <td>kitchen1</td>\n",
       "      <td>washroom1</td>\n",
       "    </tr>\n",
       "    <tr>\n",
       "      <th>17</th>\n",
       "      <td>kitchen1</td>\n",
       "      <td>livingroom1</td>\n",
       "    </tr>\n",
       "    <tr>\n",
       "      <th>18</th>\n",
       "      <td>balcony1</td>\n",
       "      <td>washroom1</td>\n",
       "    </tr>\n",
       "    <tr>\n",
       "      <th>19</th>\n",
       "      <td>balcony1</td>\n",
       "      <td>livingroom1</td>\n",
       "    </tr>\n",
       "    <tr>\n",
       "      <th>20</th>\n",
       "      <td>washroom1</td>\n",
       "      <td>livingroom1</td>\n",
       "    </tr>\n",
       "  </tbody>\n",
       "</table>\n",
       "</div>"
      ],
      "text/plain": [
       "    Room type         Link\n",
       "0    bedroom1     bedroom2\n",
       "1    bedroom1       study1\n",
       "2    bedroom1     kitchen1\n",
       "3    bedroom1     balcony1\n",
       "4    bedroom1    washroom1\n",
       "5    bedroom1  livingroom1\n",
       "6    bedroom2       study1\n",
       "7    bedroom2     kitchen1\n",
       "8    bedroom2     balcony1\n",
       "9    bedroom2    washroom1\n",
       "10   bedroom2  livingroom1\n",
       "11     study1     kitchen1\n",
       "12     study1     balcony1\n",
       "13     study1    washroom1\n",
       "14     study1  livingroom1\n",
       "15   kitchen1     balcony1\n",
       "16   kitchen1    washroom1\n",
       "17   kitchen1  livingroom1\n",
       "18   balcony1    washroom1\n",
       "19   balcony1  livingroom1\n",
       "20  washroom1  livingroom1"
      ]
     },
     "execution_count": 20,
     "metadata": {},
     "output_type": "execute_result"
    }
   ],
   "source": [
    "k[47]"
   ]
  },
  {
   "cell_type": "code",
   "execution_count": 21,
   "metadata": {},
   "outputs": [],
   "source": [
    "import networkx as nx"
   ]
  },
  {
   "cell_type": "code",
   "execution_count": 22,
   "metadata": {},
   "outputs": [],
   "source": [
    "G = nx.from_pandas_edgelist(k[26], 'Room type', 'Link')"
   ]
  },
  {
   "cell_type": "code",
   "execution_count": 23,
   "metadata": {},
   "outputs": [
    {
     "data": {
      "image/png": "[encoded data removed]",
      "text/plain": [
       "<Figure size 1440x1440 with 1 Axes>"
      ]
     },
     "metadata": {},
     "output_type": "display_data"
    }
   ],
   "source": [
    "import matplotlib.pyplot as plt\n",
    "plt.figure(figsize=(20,20))\n",
    "plt.axis('off')\n",
    "nx.draw_networkx(G, node_size = 1000,\n",
    "                 with_labels = True, edge_color ='.4', cmap = plt.cm.Blues)"
   ]
  }
 ],
 "metadata": {
  "kernelspec": {
   "display_name": "Python 3",
   "language": "python",
   "name": "python3"
  },
  "language_info": {
   "codemirror_mode": {
    "name": "ipython",
    "version": 3
   },
   "file_extension": ".py",
   "mimetype": "text/x-python",
   "name": "python",
   "nbconvert_exporter": "python",
   "pygments_lexer": "ipython3",
   "version": "3.8.5"
  }
 },
 "nbformat": 4,
 "nbformat_minor": 4
}
